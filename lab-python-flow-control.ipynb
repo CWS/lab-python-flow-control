{
 "cells": [
  {
   "cell_type": "markdown",
   "id": "d3bfc191-8885-42ee-b0a0-bbab867c6f9f",
   "metadata": {
    "tags": []
   },
   "source": [
    "# Lab | Flow Control"
   ]
  },
  {
   "cell_type": "markdown",
   "id": "3851fcd1-cf98-4653-9c89-e003b7ec9400",
   "metadata": {},
   "source": [
    "## Exercise: Managing Customer Orders Optimized\n",
    "\n",
    "In the last lab, you were starting an online store that sells various products. To ensure smooth operations, you developed a program that manages customer orders and inventory.\n",
    "\n",
    "You did so without using flow control. Let's go a step further and improve this code.\n",
    "\n",
    "Follow the steps below to complete the exercise:\n",
    "\n",
    "1. Look at your code from the lab data structures, and improve repeated code with loops.\n",
    "\n",
    "2. Instead of asking the user to input the name of three products that a customer wants to order, do the following:\n",
    "    \n",
    "    a. Prompt the user to enter the name of a product that a customer wants to order.\n",
    "    \n",
    "    b. Add the product name to the \"customer_orders\" set.\n",
    "    \n",
    "    c. Ask the user if they want to add another product (yes/no).\n",
    "    \n",
    "    d. Continue the loop until the user does not want to add another product.\n",
    "\n",
    "3. Instead of updating the inventory by subtracting 1 from the quantity of each product, only do it for  the products that were ordered (those in \"customer_orders\")."
   ]
  },
  {
   "cell_type": "code",
   "execution_count": 1,
   "id": "45db8d7f",
   "metadata": {},
   "outputs": [
    {
     "name": "stdout",
     "output_type": "stream",
     "text": [
      "Current Inventory:\n",
      "t-shirt: 2\n",
      "mug: 2\n",
      "hat: 2\n",
      "book: 2\n",
      "keychain: 2\n"
     ]
    }
   ],
   "source": [
    "# No updates made from previous code\n",
    "products = [\"t-shirt\", \"mug\", \"hat\", \"book\", \"keychain\"]\n",
    "\n",
    "inventory = {}\n",
    "for product in products:\n",
    "    inventory[product]=int(input(f\"Please input quantity of {product}\"))\n",
    "\n",
    "print(\"Current Inventory:\")\n",
    "for key in inventory:\n",
    "    print(f\"{key}: {inventory.get(key)}\")"
   ]
  },
  {
   "cell_type": "code",
   "execution_count": 2,
   "id": "027de586",
   "metadata": {},
   "outputs": [
    {
     "name": "stdout",
     "output_type": "stream",
     "text": [
      "Customer Order:\n",
      "{'mug'}\n"
     ]
    }
   ],
   "source": [
    "# Changes implemented as requested. Customer will be prompted if they want order other products until satisfied.\n",
    "customer_orders = set()\n",
    "\n",
    "intention = \"yes\"\n",
    "while intention == \"yes\":\n",
    "        order = input(\"What items would you like to order?\")\n",
    "        while order not in products:\n",
    "            order = input(f\"Please choose from available items: {products}\")\n",
    "        customer_orders.add(order)\n",
    "        intention = input(\"Would you like to order another product? (yes/no)\")\n",
    "\n",
    "print(\"Customer Order:\")\n",
    "print(customer_orders)"
   ]
  },
  {
   "cell_type": "code",
   "execution_count": 3,
   "id": "fa761c44",
   "metadata": {},
   "outputs": [
    {
     "name": "stdout",
     "output_type": "stream",
     "text": [
      "Order Statistics: \n",
      "Total Products Ordered: 1 \n",
      "Percentage of Products Ordered: 10.0 %\n",
      "\n",
      "Remaining Inventory:\n",
      "t-shirt: 2\n",
      "mug: 1\n",
      "hat: 2\n",
      "book: 2\n",
      "keychain: 2\n"
     ]
    }
   ],
   "source": [
    "# No changes made as code already implemented request for updating inventory.\n",
    "total_order = len(customer_orders)\n",
    "\n",
    "total_inventory = sum(inventory.values())\n",
    "\n",
    "perc_ordered = ((total_order/total_inventory)*100)\n",
    "\n",
    "order_status = (total_order, perc_ordered)\n",
    "\n",
    "print(f\"Order Statistics: \\nTotal Products Ordered: {total_order} \\nPercentage of Products Ordered: {perc_ordered} %\")\n",
    "for order in customer_orders:\n",
    "    if order in inventory:\n",
    "        inventory[order] = inventory.get(order)-1\n",
    "print(\"\")\n",
    "print(\"Remaining Inventory:\")\n",
    "for key in inventory:\n",
    "    print(f\"{key}: {inventory.get(key)}\")"
   ]
  }
 ],
 "metadata": {
  "kernelspec": {
   "display_name": "Python 3 (ipykernel)",
   "language": "python",
   "name": "python3"
  },
  "language_info": {
   "codemirror_mode": {
    "name": "ipython",
    "version": 3
   },
   "file_extension": ".py",
   "mimetype": "text/x-python",
   "name": "python",
   "nbconvert_exporter": "python",
   "pygments_lexer": "ipython3",
   "version": "3.11.5"
  }
 },
 "nbformat": 4,
 "nbformat_minor": 5
}
